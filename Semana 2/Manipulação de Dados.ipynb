{
 "cells": [
  {
   "cell_type": "markdown",
   "metadata": {},
   "source": [
    "# Desafio 1\n",
    "\n",
    "Para esse desafio, vamos trabalhar com o data set [Black Friday](https://www.kaggle.com/mehdidag/black-friday), que reúne dados sobre transações de compras em uma loja de varejo.\n",
    "\n",
    "Vamos utilizá-lo para praticar a exploração de data sets utilizando pandas. Você pode fazer toda análise neste mesmo notebook, mas as resposta devem estar nos locais indicados.\n",
    "\n",
    "> Obs.: Por favor, não modifique o nome das funções de resposta."
   ]
  },
  {
   "cell_type": "markdown",
   "metadata": {},
   "source": [
    "### Importações"
   ]
  },
  {
   "cell_type": "code",
   "execution_count": 23,
   "metadata": {},
   "outputs": [],
   "source": [
    "import pandas as pd\n",
    "import numpy as np\n",
    "import matplotlib.pyplot as plt\n",
    "import seaborn as sns\n",
    "from sklearn.preprocessing import MinMaxScaler\n",
    "from sklearn.preprocessing import StandardScaler\n",
    "import warnings\n",
    "warnings.filterwarnings('ignore')"
   ]
  },
  {
   "cell_type": "code",
   "execution_count": 3,
   "metadata": {},
   "outputs": [],
   "source": [
    "black_friday = pd.read_csv(\"black_friday.csv\")"
   ]
  },
  {
   "cell_type": "markdown",
   "metadata": {},
   "source": [
    "### Informações básicas"
   ]
  },
  {
   "cell_type": "code",
   "execution_count": 16,
   "metadata": {},
   "outputs": [
    {
     "data": {
      "text/html": [
       "<div>\n",
       "<style scoped>\n",
       "    .dataframe tbody tr th:only-of-type {\n",
       "        vertical-align: middle;\n",
       "    }\n",
       "\n",
       "    .dataframe tbody tr th {\n",
       "        vertical-align: top;\n",
       "    }\n",
       "\n",
       "    .dataframe thead th {\n",
       "        text-align: right;\n",
       "    }\n",
       "</style>\n",
       "<table border=\"1\" class=\"dataframe\">\n",
       "  <thead>\n",
       "    <tr style=\"text-align: right;\">\n",
       "      <th></th>\n",
       "      <th>User_ID</th>\n",
       "      <th>Product_ID</th>\n",
       "      <th>Gender</th>\n",
       "      <th>Age</th>\n",
       "      <th>Occupation</th>\n",
       "      <th>City_Category</th>\n",
       "      <th>Stay_In_Current_City_Years</th>\n",
       "      <th>Marital_Status</th>\n",
       "      <th>Product_Category_1</th>\n",
       "      <th>Product_Category_2</th>\n",
       "      <th>Product_Category_3</th>\n",
       "      <th>Purchase</th>\n",
       "    </tr>\n",
       "  </thead>\n",
       "  <tbody>\n",
       "    <tr>\n",
       "      <th>0</th>\n",
       "      <td>1000001</td>\n",
       "      <td>P00069042</td>\n",
       "      <td>F</td>\n",
       "      <td>0-17</td>\n",
       "      <td>10</td>\n",
       "      <td>A</td>\n",
       "      <td>2</td>\n",
       "      <td>0</td>\n",
       "      <td>3</td>\n",
       "      <td>NaN</td>\n",
       "      <td>NaN</td>\n",
       "      <td>8370</td>\n",
       "    </tr>\n",
       "    <tr>\n",
       "      <th>1</th>\n",
       "      <td>1000001</td>\n",
       "      <td>P00248942</td>\n",
       "      <td>F</td>\n",
       "      <td>0-17</td>\n",
       "      <td>10</td>\n",
       "      <td>A</td>\n",
       "      <td>2</td>\n",
       "      <td>0</td>\n",
       "      <td>1</td>\n",
       "      <td>6.0</td>\n",
       "      <td>14.0</td>\n",
       "      <td>15200</td>\n",
       "    </tr>\n",
       "    <tr>\n",
       "      <th>2</th>\n",
       "      <td>1000001</td>\n",
       "      <td>P00087842</td>\n",
       "      <td>F</td>\n",
       "      <td>0-17</td>\n",
       "      <td>10</td>\n",
       "      <td>A</td>\n",
       "      <td>2</td>\n",
       "      <td>0</td>\n",
       "      <td>12</td>\n",
       "      <td>NaN</td>\n",
       "      <td>NaN</td>\n",
       "      <td>1422</td>\n",
       "    </tr>\n",
       "    <tr>\n",
       "      <th>3</th>\n",
       "      <td>1000001</td>\n",
       "      <td>P00085442</td>\n",
       "      <td>F</td>\n",
       "      <td>0-17</td>\n",
       "      <td>10</td>\n",
       "      <td>A</td>\n",
       "      <td>2</td>\n",
       "      <td>0</td>\n",
       "      <td>12</td>\n",
       "      <td>14.0</td>\n",
       "      <td>NaN</td>\n",
       "      <td>1057</td>\n",
       "    </tr>\n",
       "    <tr>\n",
       "      <th>4</th>\n",
       "      <td>1000002</td>\n",
       "      <td>P00285442</td>\n",
       "      <td>M</td>\n",
       "      <td>55+</td>\n",
       "      <td>16</td>\n",
       "      <td>C</td>\n",
       "      <td>4+</td>\n",
       "      <td>0</td>\n",
       "      <td>8</td>\n",
       "      <td>NaN</td>\n",
       "      <td>NaN</td>\n",
       "      <td>7969</td>\n",
       "    </tr>\n",
       "  </tbody>\n",
       "</table>\n",
       "</div>"
      ],
      "text/plain": [
       "   User_ID Product_ID Gender   Age  Occupation City_Category  \\\n",
       "0  1000001  P00069042      F  0-17          10             A   \n",
       "1  1000001  P00248942      F  0-17          10             A   \n",
       "2  1000001  P00087842      F  0-17          10             A   \n",
       "3  1000001  P00085442      F  0-17          10             A   \n",
       "4  1000002  P00285442      M   55+          16             C   \n",
       "\n",
       "  Stay_In_Current_City_Years  Marital_Status  Product_Category_1  \\\n",
       "0                          2               0                   3   \n",
       "1                          2               0                   1   \n",
       "2                          2               0                  12   \n",
       "3                          2               0                  12   \n",
       "4                         4+               0                   8   \n",
       "\n",
       "   Product_Category_2  Product_Category_3  Purchase  \n",
       "0                 NaN                 NaN      8370  \n",
       "1                 6.0                14.0     15200  \n",
       "2                 NaN                 NaN      1422  \n",
       "3                14.0                 NaN      1057  \n",
       "4                 NaN                 NaN      7969  "
      ]
     },
     "execution_count": 16,
     "metadata": {},
     "output_type": "execute_result"
    }
   ],
   "source": [
    "black_friday.head()"
   ]
  },
  {
   "cell_type": "code",
   "execution_count": 17,
   "metadata": {},
   "outputs": [
    {
     "data": {
      "text/plain": [
       "Index(['User_ID', 'Product_ID', 'Gender', 'Age', 'Occupation', 'City_Category',\n",
       "       'Stay_In_Current_City_Years', 'Marital_Status', 'Product_Category_1',\n",
       "       'Product_Category_2', 'Product_Category_3', 'Purchase'],\n",
       "      dtype='object')"
      ]
     },
     "execution_count": 17,
     "metadata": {},
     "output_type": "execute_result"
    }
   ],
   "source": [
    "black_friday.columns"
   ]
  },
  {
   "cell_type": "code",
   "execution_count": 40,
   "metadata": {},
   "outputs": [
    {
     "data": {
      "text/plain": [
       "(537577, 12)"
      ]
     },
     "execution_count": 40,
     "metadata": {},
     "output_type": "execute_result"
    }
   ],
   "source": [
    "black_friday.shape"
   ]
  },
  {
   "cell_type": "code",
   "execution_count": 45,
   "metadata": {},
   "outputs": [
    {
     "data": {
      "text/plain": [
       "User_ID                            0\n",
       "Product_ID                         0\n",
       "Gender                             0\n",
       "Age                                0\n",
       "Occupation                         0\n",
       "City_Category                      0\n",
       "Stay_In_Current_City_Years         0\n",
       "Marital_Status                     0\n",
       "Product_Category_1                 0\n",
       "Product_Category_2            166986\n",
       "Product_Category_3            373299\n",
       "Purchase                           0\n",
       "dtype: int64"
      ]
     },
     "execution_count": 45,
     "metadata": {},
     "output_type": "execute_result"
    }
   ],
   "source": [
    "black_friday.isna().sum()"
   ]
  },
  {
   "cell_type": "markdown",
   "metadata": {},
   "source": [
    "### Análise de exploratória  "
   ]
  },
  {
   "cell_type": "markdown",
   "metadata": {},
   "source": [
    "* **Qual o gênero e estado civil dos maiores consumidores?**"
   ]
  },
  {
   "cell_type": "code",
   "execution_count": 30,
   "metadata": {},
   "outputs": [
    {
     "data": {
      "image/png": "[encoded data removed]",
      "text/plain": [
       "<Figure size 864x360 with 1 Axes>"
      ]
     },
     "metadata": {},
     "output_type": "display_data"
    }
   ],
   "source": [
    "marital_gender = black_friday[['Gender', 'Marital_Status']]\n",
    "marital_gender['Marital_Status'].replace(to_replace = [0, 1], value = ['Single', 'Married'], inplace=True)\n",
    "sns.set(style='whitegrid', palette = 'Paired', font_scale=1.1, rc={\"figure.figsize\": [12, 5]})\n",
    "sns.countplot(x='Marital_Status', hue='Gender', data=marital_gender);\n",
    "plt.xlabel('Estado civil')\n",
    "plt.title('Quantidade de compras realizadas por gênero e estado civil');"
   ]
  },
  {
   "cell_type": "markdown",
   "metadata": {},
   "source": [
    "Através da análise podemos observar que homens solteiros são os maiores consumidores na Black Friday."
   ]
  },
  {
   "cell_type": "markdown",
   "metadata": {},
   "source": [
    "* **Qual faixa etária consome mais na Black Friday?**"
   ]
  },
  {
   "cell_type": "code",
   "execution_count": 21,
   "metadata": {},
   "outputs": [
    {
     "data": {
      "image/png": "[encoded data removed]",
      "text/plain": [
       "<Figure size 864x360 with 1 Axes>"
      ]
     },
     "metadata": {},
     "output_type": "display_data"
    }
   ],
   "source": [
    "age_order = sorted(black_friday['Age'].unique())\n",
    "sns.countplot(x='Age', order=age_order, data=black_friday);\n",
    "plt.xlabel('Faixa etária')\n",
    "plt.title('Consumo por faixa etária');"
   ]
  },
  {
   "cell_type": "markdown",
   "metadata": {},
   "source": [
    "Os maiores consumidores pertencem a faixa etária de 26-35 anos. Mas são eles que realizam as compras de maior valor?"
   ]
  },
  {
   "cell_type": "markdown",
   "metadata": {},
   "source": [
    "* **Qual faixa etária realiza compras de maior valor na Black Friday?**"
   ]
  },
  {
   "cell_type": "code",
   "execution_count": 31,
   "metadata": {},
   "outputs": [
    {
     "data": {
      "image/png": "[encoded data removed]",
      "text/plain": [
       "<Figure size 864x360 with 1 Axes>"
      ]
     },
     "metadata": {},
     "output_type": "display_data"
    }
   ],
   "source": [
    "age_purchase = black_friday.groupby('Age')['Purchase'].mean()\n",
    "age_purchase = pd.DataFrame({'Age':age_purchase.index, 'Average_purchase':age_purchase.values})\n",
    "plt.plot('Age', 'Average_purchase', 'go-', data=age_purchase, );\n",
    "plt.xlabel('Faixa etária')\n",
    "plt.ylabel('Gasto médio (U$)')\n",
    "plt.title('Gasto médio por faixa etária');"
   ]
  },
  {
   "cell_type": "markdown",
   "metadata": {},
   "source": [
    "As compras de maior valor são realizadas pelos consumidores que possuem entre 51 e 55 anos."
   ]
  },
  {
   "cell_type": "markdown",
   "metadata": {},
   "source": [
    "* **Qual a relação entre o consumo e tempo de conviência?**"
   ]
  },
  {
   "cell_type": "code",
   "execution_count": 42,
   "metadata": {},
   "outputs": [
    {
     "data": {
      "image/png": "[encoded data removed]",
      "text/plain": [
       "<Figure size 864x360 with 1 Axes>"
      ]
     },
     "metadata": {},
     "output_type": "display_data"
    }
   ],
   "source": [
    "current_order = sorted(black_friday['Stay_In_Current_City_Years'].unique())\n",
    "sns.countplot(x='Stay_In_Current_City_Years', order=current_order, data=black_friday);\n",
    "plt.xlabel('Tempo de permanência (anos)')\n",
    "plt.title('Consumo por tempo de permanência');"
   ]
  },
  {
   "cell_type": "code",
   "execution_count": 43,
   "metadata": {},
   "outputs": [
    {
     "data": {
      "image/png": "[encoded data removed]",
      "text/plain": [
       "<Figure size 864x360 with 1 Axes>"
      ]
     },
     "metadata": {},
     "output_type": "display_data"
    }
   ],
   "source": [
    "stay_purchase = black_friday.groupby('Stay_In_Current_City_Years')['Purchase'].mean()\n",
    "stay_purchase = pd.DataFrame({'Stay_In_Current_City_Years':stay_purchase.index, 'Average_purchase':stay_purchase.values})\n",
    "plt.plot('Stay_In_Current_City_Years', 'Average_purchase', 'bo-', data=stay_purchase);\n",
    "plt.xlabel('Tempo de permanência (anos)')\n",
    "plt.title('Gasto médio por tempo de convivência');"
   ]
  },
  {
   "cell_type": "markdown",
   "metadata": {},
   "source": [
    "Os maiores consumidores são pessoas com tempo de permanência de 1 ano, porém compras de maior valor são realizadas por moradores que possuem a partir de 2 anos de permanência."
   ]
  },
  {
   "cell_type": "markdown",
   "metadata": {},
   "source": [
    "### Questão 1\n",
    "\n",
    "* **Quantas observações e quantas colunas há no dataset? Responda no formato de uma tuple `(n_observacoes, n_colunas)`.**"
   ]
  },
  {
   "cell_type": "markdown",
   "metadata": {},
   "source": [
    "Para obtermos as dimensões de nosso dataframe podemos utilizar o atributo ***shape***, como demonstrado abaixo. O atributo ***shape*** nos retorna uma tupla contendo **(nº de observações, nº colunas)**."
   ]
  },
  {
   "cell_type": "code",
   "execution_count": 49,
   "metadata": {},
   "outputs": [],
   "source": [
    "def q1():\n",
    "    return black_friday.shape"
   ]
  },
  {
   "cell_type": "code",
   "execution_count": 50,
   "metadata": {},
   "outputs": [
    {
     "data": {
      "text/plain": [
       "(537577, 12)"
      ]
     },
     "execution_count": 50,
     "metadata": {},
     "output_type": "execute_result"
    }
   ],
   "source": [
    "q1()"
   ]
  },
  {
   "cell_type": "markdown",
   "metadata": {},
   "source": [
    "### Questão 2\n",
    "\n",
    "* **Há quantas mulheres com idade entre 26 e 35 anos no dataset? Responda como um único escalar.**"
   ]
  },
  {
   "cell_type": "markdown",
   "metadata": {},
   "source": [
    "O método ***query*** nos permite realizar consultas em nosso dataframe utilizando expressões booleanas. Neste caso, irei realizar uma consulta por mulheres *(Gender == F)* com idade entre 26 e 35 anos *(Age == '26-35')*. Como retorno, teremos um dataframe que satisfaça a condição anterior, porém precisamos obter o nº de observações deste dataframe. Para isso basta utilizarmos o atributo ***shape***, acessando sua primeira posição."
   ]
  },
  {
   "cell_type": "code",
   "execution_count": 52,
   "metadata": {},
   "outputs": [],
   "source": [
    "def q2():\n",
    "    return black_friday.query(\"Gender == 'F' & Age == '26-35'\").shape[0]"
   ]
  },
  {
   "cell_type": "code",
   "execution_count": 53,
   "metadata": {},
   "outputs": [
    {
     "data": {
      "text/plain": [
       "49348"
      ]
     },
     "execution_count": 53,
     "metadata": {},
     "output_type": "execute_result"
    }
   ],
   "source": [
    "q2()"
   ]
  },
  {
   "cell_type": "markdown",
   "metadata": {},
   "source": [
    "### Questão 3\n",
    "\n",
    "* **Quantos usuários únicos há no dataset? Responda como um único escalar.**"
   ]
  },
  {
   "cell_type": "markdown",
   "metadata": {},
   "source": [
    "O método [unique](https://pandas.pydata.org/pandas-docs/stable/reference/api/pandas.Series.unique.html) retorna os elementos únicos de uma Series ou DataFrame. Os elementos são retornados por ordem de aparência, portanto não são ordenados. Como retorno, iremos obter um *array* contendo os usuários únicos, por fim, basta retornamos o tamanho do array através de *len()*."
   ]
  },
  {
   "cell_type": "code",
   "execution_count": 55,
   "metadata": {},
   "outputs": [],
   "source": [
    "def q3():\n",
    "    return len(black_friday['User_ID'].unique())"
   ]
  },
  {
   "cell_type": "code",
   "execution_count": 56,
   "metadata": {},
   "outputs": [
    {
     "data": {
      "text/plain": [
       "5891"
      ]
     },
     "execution_count": 56,
     "metadata": {},
     "output_type": "execute_result"
    }
   ],
   "source": [
    "q3()"
   ]
  },
  {
   "cell_type": "markdown",
   "metadata": {},
   "source": [
    "### Questão 4\n",
    "\n",
    "* **Quantos tipos de dados diferentes existem no dataset? Responda como um único escalar.**"
   ]
  },
  {
   "cell_type": "markdown",
   "metadata": {},
   "source": [
    "O atributo [dtypes](https://pandas.pydata.org/pandas-docs/stable/reference/api/pandas.DataFrame.dtypes.html) retorna uma Series contendo os tipos dos dados existente em nosso dataframe. Como estamos interessados apenas na quantidade de tipos únicos, utilizamos o método *unique* em conjunto com o *len*."
   ]
  },
  {
   "cell_type": "code",
   "execution_count": 7,
   "metadata": {},
   "outputs": [],
   "source": [
    "def q4():\n",
    "    return len(black_friday.dtypes.unique())"
   ]
  },
  {
   "cell_type": "markdown",
   "metadata": {},
   "source": [
    "### Questão 5\n",
    "\n",
    "* **Qual porcentagem dos registros possui ao menos um valor null (`None`, `ǸaN` etc)? Responda como um único escalar entre 0 e 1.**"
   ]
  },
  {
   "cell_type": "markdown",
   "metadata": {},
   "source": [
    "Para obter a porcentagem dos registros possuírem ao menos um valor nulo, iremos utilizar o conceito de [probabilidade](https://geekiegames.geekie.com.br/blog/probabilidade-condicional). A probabilidade de um evento ocorrer é dada por:  \n",
    "$$\n",
    "Probabilidade = \\frac{casos}{observações}\n",
    "$$\n",
    "\n",
    "Nossos casos favoráveis são a quantidade de registros que possuem ao menos um valor nulo, ou seja, a quantidade máxima de ocorrência de registros nulos em uma coluna. E para obtermos o número total de observações, basta acessarmos a primeira posição da tupla retornada por *shape*. Realizando a divisão de casos favoráveis pelo número total de observações, iremos obter um valor entre 0 e 1 *(0 ≤ p ≤1)* indicando a porcentagem dos registros possuírem ao menos um valor nulo. \n",
    "    "
   ]
  },
  {
   "cell_type": "code",
   "execution_count": 57,
   "metadata": {},
   "outputs": [],
   "source": [
    "def q5():\n",
    "    return black_friday.isnull().sum().max() / black_friday.shape[0]"
   ]
  },
  {
   "cell_type": "markdown",
   "metadata": {},
   "source": [
    "O método [isnull](https://pandas.pydata.org/pandas-docs/stable/reference/api/pandas.isnull.html) retorna um array de booleanos, com True para valores nulos. A soma de valores nulos por atributo pode ser obtida através de [sum](https://pandas.pydata.org/pandas-docs/stable/reference/api/pandas.DataFrame.sum.html) e o valor máximo de registros nulos contidos em um coluna através de [max](https://pandas.pydata.org/pandas-docs/stable/reference/api/pandas.DataFrame.max.html)."
   ]
  },
  {
   "cell_type": "code",
   "execution_count": 59,
   "metadata": {},
   "outputs": [
    {
     "name": "stdout",
     "output_type": "stream",
     "text": [
      "0.69\n"
     ]
    }
   ],
   "source": [
    "print(f'{q5():.2f}')"
   ]
  },
  {
   "cell_type": "markdown",
   "metadata": {},
   "source": [
    "### Questão 6\n",
    "\n",
    "* **Quantos valores null existem na variável (coluna) com o maior número de null? Responda como um único escalar.**"
   ]
  },
  {
   "cell_type": "markdown",
   "metadata": {},
   "source": [
    "Como precisamos obter a quantidade máxima de valores nulos em uma coluna para calcular a probabilidade na questão anterior, o exercício 6 está resolvido. Mas ao invés de utilizar o método *isnull*, irei utilizar [isna](https://pandas.pydata.org/pandas-docs/stable/reference/api/pandas.DataFrame.isna.html) para demonstrar que ambos possuem a mesma função, detectar valores nulos. Por fim, basta obtermos a soma de registros nulos por coluna com *sum* e a coluna com quantidade máxima utilizando *max*."
   ]
  },
  {
   "cell_type": "code",
   "execution_count": 61,
   "metadata": {},
   "outputs": [],
   "source": [
    "def q6():\n",
    "    return black_friday.isna().sum().max()"
   ]
  },
  {
   "cell_type": "code",
   "execution_count": 62,
   "metadata": {},
   "outputs": [
    {
     "data": {
      "text/plain": [
       "373299"
      ]
     },
     "execution_count": 62,
     "metadata": {},
     "output_type": "execute_result"
    }
   ],
   "source": [
    "q6()"
   ]
  },
  {
   "cell_type": "markdown",
   "metadata": {},
   "source": [
    "### Questão 7\n",
    "\n",
    "* **Qual o valor mais frequente (sem contar nulls) em `Product_Category_3`? Responda como um único escalar.**"
   ]
  },
  {
   "cell_type": "markdown",
   "metadata": {},
   "source": [
    "O valor mais frequente em um conjunto de dados é uma medida estatística de tendência central, conhecida como ***moda***. Podemos obter a moda de **Product_Category_3** através do método [mode](https://pandas.pydata.org/pandas-docs/stable/reference/api/pandas.DataFrame.mode.html). O método mode irá nos retornar uma Series contendo índice e a moda para categoria. A moda em um único escalar pode ser obtidada através do atributo ***values[0]***."
   ]
  },
  {
   "cell_type": "code",
   "execution_count": 10,
   "metadata": {},
   "outputs": [],
   "source": [
    "def q7():\n",
    "    return black_friday['Product_Category_3'].mode().values[0]"
   ]
  },
  {
   "cell_type": "code",
   "execution_count": 34,
   "metadata": {},
   "outputs": [
    {
     "data": {
      "text/plain": [
       "pandas.core.series.Series"
      ]
     },
     "execution_count": 34,
     "metadata": {},
     "output_type": "execute_result"
    }
   ],
   "source": [
    "type(black_friday['Product_Category_3'].mode())"
   ]
  },
  {
   "cell_type": "markdown",
   "metadata": {},
   "source": [
    "### Questão 8\n",
    "\n",
    "* **Qual a nova média da variável (coluna) `Purchase` após sua normalização? Responda como um único escalar.**"
   ]
  },
  {
   "cell_type": "markdown",
   "metadata": {},
   "source": [
    "Antes de obtermos a média da coluna *Purchase*, precisamos normalizá-la. Mas o que é normalização e qual sua função?\n",
    "\n",
    "A grande maioria dos algoritmos de *Machine Learning* não funcionam tão bem quando atributos numéricos possuem **escalas muito diferentes**, como é o caso de *Product_Category_1 (valores entre 1 e 18)* e *Purchase (valores entre 185 e 23961)*. "
   ]
  },
  {
   "cell_type": "code",
   "execution_count": 40,
   "metadata": {},
   "outputs": [
    {
     "data": {
      "text/plain": [
       "(1, 18)"
      ]
     },
     "execution_count": 40,
     "metadata": {},
     "output_type": "execute_result"
    }
   ],
   "source": [
    "black_friday['Product_Category_1'].min(), black_friday['Product_Category_1'].max()"
   ]
  },
  {
   "cell_type": "code",
   "execution_count": 41,
   "metadata": {},
   "outputs": [
    {
     "data": {
      "text/plain": [
       "(185, 23961)"
      ]
     },
     "execution_count": 41,
     "metadata": {},
     "output_type": "execute_result"
    }
   ],
   "source": [
    "black_friday['Purchase'].min(), black_friday['Purchase'].max()"
   ]
  },
  {
   "cell_type": "markdown",
   "metadata": {},
   "source": [
    "Dessa forma, os algoritmos podem atribuir maior peso para atributos com escalas maiores, o que pode não representar a realidade do problema. Iremos abordar duas formas de todos os atributos obterem a mesma escala: ***min-max e padronização***.  \n",
    "\n",
    "Nesta questão será utilizado o escalonamento ***min_max***, também conhecido como **normalização**. Sua função é redimensionar os valores para o intervalo entre 0 a 1, dessa forma todos os atributos irão possuír a mesma escala. Isso é feito subtruindo o valor pelo valor mínimo e dividindo pelo máximo menos o mínimo. \n",
    "\n",
    "$$\n",
    "X_{changed} = \\frac{X - X_{min}}{X_{max} - X_{min}}\n",
    "$$\n",
    "\n"
   ]
  },
  {
   "cell_type": "code",
   "execution_count": 64,
   "metadata": {},
   "outputs": [],
   "source": [
    "def q8():\n",
    "    return ((black_friday['Purchase'] - black_friday['Purchase'].min())/\n",
    "           (black_friday['Purchase'].max()-black_friday['Purchase'].min())).mean()"
   ]
  },
  {
   "cell_type": "code",
   "execution_count": 65,
   "metadata": {},
   "outputs": [
    {
     "data": {
      "text/plain": [
       "0.38479390362696736"
      ]
     },
     "execution_count": 65,
     "metadata": {},
     "output_type": "execute_result"
    }
   ],
   "source": [
    "q8()"
   ]
  },
  {
   "cell_type": "markdown",
   "metadata": {},
   "source": [
    "O processo de normalização também pode ser realizado através da biblioteca [MinMaxScaler](sklearn.preprocessing.MinMaxScaler). Conforme demonstrado abaixo:"
   ]
  },
  {
   "cell_type": "code",
   "execution_count": 63,
   "metadata": {},
   "outputs": [
    {
     "data": {
      "text/plain": [
       "0.3847939036269795"
      ]
     },
     "execution_count": 63,
     "metadata": {},
     "output_type": "execute_result"
    }
   ],
   "source": [
    "min_max = MinMaxScaler()\n",
    "purchase_normalized = min_max.fit_transform(black_friday['Purchase'].values.reshape(-1, 1))\n",
    "purchase_normalized.mean()"
   ]
  },
  {
   "cell_type": "markdown",
   "metadata": {},
   "source": [
    "### Questão 9\n",
    "\n",
    "* **Quantas ocorrências entre -1 e 1 inclusive existem da variáel `Purchase` após sua padronização? Responda como um único escalar.**"
   ]
  },
  {
   "cell_type": "markdown",
   "metadata": {},
   "source": [
    "A outra forma dos atributos possuírem a mesma escala é através da técnica de ***padronização***. A padronização não vincula os dados a um intervalo específico, como no escalonamento *min-max*. Ela subtrai o valor médio e, em seguida, divide pela variância. A padronização é feita através da fórmula *z-score*:\n",
    "\n",
    "$$\n",
    "z = \\frac{x - \\mu }{\\sigma}\n",
    "$$\n",
    "\n",
    "Assim como na transformação *min-max*, o Scikit-Learn também oferece um transformador para padronização, chamado [StandardScaler](https://scikit-learn.org/stable/modules/generated/sklearn.preprocessing.StandardScaler.html)."
   ]
  },
  {
   "cell_type": "code",
   "execution_count": 27,
   "metadata": {},
   "outputs": [],
   "source": [
    "standard = StandardScaler()\n",
    "purchase_standardized = standard.fit_transform(black_friday['Purchase'].values.reshape(-1, 1))"
   ]
  },
  {
   "cell_type": "code",
   "execution_count": 28,
   "metadata": {},
   "outputs": [],
   "source": [
    "def q9():\n",
    "    return len(purchase_standardized[(purchase_standardized > -1) & (purchase_standardized < 1)])"
   ]
  },
  {
   "cell_type": "markdown",
   "metadata": {},
   "source": [
    "### Questão 10\n",
    "\n",
    "* **Podemos afirmar que se uma observação é null em `Product_Category_2` ela também o é em `Product_Category_3`? Responda com um bool (`True`, `False`).**"
   ]
  },
  {
   "cell_type": "markdown",
   "metadata": {},
   "source": [
    "Primeiramente, obtive um um dataframe auxiliar contendo todas as observações em que o atributo *Product_Category_2* é nulo. O método *sum()* não contabiliza valores nulos, portanto a soma de uma coluna nula será 0. Dessa forma, apenas verifiquei se a soma de ambas colunas (*Product_Category_2 e Product_Category_3*) são iguais, ou seja, 0. Se a condição for satisfeita, toda observação nula em *Product_Category_2* será nula em *Product_Category_3*."
   ]
  },
  {
   "cell_type": "code",
   "execution_count": 16,
   "metadata": {},
   "outputs": [],
   "source": [
    "def q10():\n",
    "    aux = black_friday[black_friday['Product_Category_2'].isnull()]\n",
    "    return bool(aux['Product_Category_2'].sum() == aux['Product_Category_3'].sum())"
   ]
  },
  {
   "cell_type": "markdown",
   "metadata": {},
   "source": [
    "### Referências\n",
    "* [Mãos à Obra: Aprendizado de Máquina com Scikit-Learn & TensorFlow](https://www.amazon.com.br/M%C3%A3os-Obra-Aprendizado-Scikit-Learn-TensorFlow/dp/8550803812)\n",
    "* [Python Para Análise de Dados: Tratamento de Dados com Pandas, NumPy e IPython](https://www.amazon.com.br/Python-Para-An%C3%A1lise-Dados-Tratamento/dp/8575226479/ref=asc_df_8575226479/?tag=googleshopp00-20&linkCode=df0&hvadid=379739109739&hvpos=&hvnetw=g&hvrand=13792364004803021218&hvpone=&hvptwo=&hvqmt=&hvdev=c&hvdvcmdl=&hvlocint=&hvlocphy=1001599&hvtargid=pla-812784633558&psc=1)\n",
    "* [Geekie Games - Probabilidade Condicional](https://geekiegames.geekie.com.br/blog/probabilidade-condicional)  \n",
    "* [Data Hackers - Normalizar ou padronizar as variáveis?](https://medium.com/data-hackers/normalizar-ou-padronizar-as-vari%C3%A1veis-3b619876ccc9)"
   ]
  },
  {
   "cell_type": "markdown",
   "metadata": {},
   "source": [
    "Deixa sua crítica ou sugestão e me ajude a evoluir😉\n",
    "* [LinkedIn](https://www.linkedin.com/in/bruno-dorneles/)\n",
    "* [GitHub](https://github.com/BrunoDorneles)\n",
    "\n",
    "<img src=\"bye.gif\" width=\"500\" height=\"500\"/>"
   ]
  }
 ],
 "metadata": {
  "kernelspec": {
   "display_name": "Python 3",
   "language": "python",
   "name": "python3"
  },
  "language_info": {
   "codemirror_mode": {
    "name": "ipython",
    "version": 3
   },
   "file_extension": ".py",
   "mimetype": "text/x-python",
   "name": "python",
   "nbconvert_exporter": "python",
   "pygments_lexer": "ipython3",
   "version": "3.7.6"
  }
 },
 "nbformat": 4,
 "nbformat_minor": 2
}
